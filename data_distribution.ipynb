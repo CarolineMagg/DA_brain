{
 "cells": [
  {
   "cell_type": "markdown",
   "metadata": {},
   "source": [
    "# Data distributions, data shift and segmentation statistics"
   ]
  },
  {
   "cell_type": "markdown",
   "metadata": {},
   "source": [
    "## Import and Setup"
   ]
  },
  {
   "cell_type": "code",
   "execution_count": null,
   "metadata": {},
   "outputs": [],
   "source": [
    "%config Completer.use_jedi = False\n",
    "%matplotlib inline"
   ]
  },
  {
   "cell_type": "raw",
   "metadata": {},
   "source": [
    "from tensorboard import notebook\n",
    "def setup_tensorboard():\n",
    "    \"\"\"\n",
    "    Setup tensorboard in jupyter notebooks (port: 6006)\n",
    "    \"\"\"\n",
    "    %load_ext tensorboard\n",
    "    %tensorboard --logdir logs --bind_all\n",
    "    notebook.list()\n",
    "setup_tensorboard()"
   ]
  },
  {
   "cell_type": "code",
   "execution_count": null,
   "metadata": {},
   "outputs": [],
   "source": [
    "import sys\n",
    "import os\n",
    "\n",
    "sys.path.append(os.path.abspath('../data_utils'))\n",
    "sys.path.append(os.path.abspath('../models'))"
   ]
  },
  {
   "cell_type": "code",
   "execution_count": null,
   "metadata": {},
   "outputs": [],
   "source": [
    "from models.utils import check_gpu\n",
    "import tensorflow as tf\n",
    "import numpy as np\n",
    "import matplotlib.pyplot as plt\n",
    "import tensorflow_addons as tfa\n",
    "from time import time"
   ]
  },
  {
   "cell_type": "code",
   "execution_count": null,
   "metadata": {},
   "outputs": [],
   "source": [
    "from losses.gan import *\n",
    "from data_utils.DataSet2DMixed import DataSet2DMixed\n",
    "from models.XNet import XNet\n",
    "from models.UNet import UNet\n",
    "from models.ResnetGenerator import ResnetGenerator\n",
    "from models.ConvDiscriminator import ConvDiscriminator"
   ]
  },
  {
   "cell_type": "code",
   "execution_count": null,
   "metadata": {},
   "outputs": [],
   "source": [
    "import logging\n",
    "logging.basicConfig(level=logging.INFO)"
   ]
  },
  {
   "cell_type": "raw",
   "metadata": {},
   "source": [
    "check_gpu()"
   ]
  },
  {
   "cell_type": "code",
   "execution_count": null,
   "metadata": {},
   "outputs": [],
   "source": [
    "!nvidia-smi"
   ]
  },
  {
   "cell_type": "code",
   "execution_count": null,
   "metadata": {},
   "outputs": [],
   "source": [
    "figures_path = \"/tf/workdir/DA_brain/screenshots/\"\n",
    "plt.rcParams.update({'font.size': 22})"
   ]
  },
  {
   "cell_type": "markdown",
   "metadata": {},
   "source": [
    "# Train and validation set - histogram of random selection"
   ]
  },
  {
   "cell_type": "markdown",
   "metadata": {},
   "source": [
    "## VS filtered data"
   ]
  },
  {
   "cell_type": "code",
   "execution_count": null,
   "metadata": {},
   "outputs": [],
   "source": [
    "np.random.seed(1335)"
   ]
  },
  {
   "cell_type": "code",
   "execution_count": null,
   "metadata": {},
   "outputs": [],
   "source": [
    "train_set_all = DataSet2DMixed(\"/tf/workdir/data/VS_segm/VS_registered/training\", \n",
    "                              input_data=\"t1\", input_name=\"image\", \n",
    "                              output_data=\"t2\", output_name=\"t2\", segm_size=0,\n",
    "                              batch_size=1, shuffle=False, p_augm=0.0, dsize=(256,256),\n",
    "                              alpha=-1, beta=1)\n",
    "val_set_all = DataSet2DMixed(\"/tf/workdir/data/VS_segm/VS_registered/validation\", \n",
    "                              input_data=[\"t1\"], input_name=[\"image\"], \n",
    "                              output_data=[\"t2\"], output_name=[\"t2\"], segm_size=0,\n",
    "                              batch_size=1, shuffle=False, p_augm=0.0, dsize=(256,256),\n",
    "                              alpha=-1, beta=1)\n",
    "test_set_all = DataSet2DMixed(\"/tf/workdir/data/VS_segm/VS_registered/test\", \n",
    "                              input_data=[\"t1\"], input_name=[\"image\"], \n",
    "                              output_data=[\"t2\"], output_name=[\"t2\"], segm_size=0,\n",
    "                              batch_size=1, shuffle=False, p_augm=0.0, dsize=(256,256),\n",
    "                              alpha=-1, beta=1)"
   ]
  },
  {
   "cell_type": "code",
   "execution_count": null,
   "metadata": {},
   "outputs": [],
   "source": [
    "train_set_all.batch_size = 1675#int(10450*0.2)\n",
    "val_set_all.batch_size = 365#int(2960*0.2)\n",
    "test_set_all.batch_size = 538#int(3898*0.2)"
   ]
  },
  {
   "cell_type": "code",
   "execution_count": null,
   "metadata": {},
   "outputs": [],
   "source": [
    "values, edges = np.histogram(train_set_all[0][0][\"image\"], bins=200)\n",
    "values2, edges2 = np.histogram(train_set_all[0][1][\"t2\"], bins=200)\n",
    "fig = plt.figure(figsize=(15,5))\n",
    "plt.bar(edges[:-1], values, width=np.diff(edges), align=\"edge\", edgecolor=\"black\", \n",
    "        color=\"blue\", label=\"T1 (source)\")\n",
    "plt.bar(edges2[:-1], values2, width=np.diff(edges2), align=\"edge\", color=\"red\", \n",
    "        edgecolor=\"black\", alpha=0.5, label=\"T2 (target)\")\n",
    "plt.legend()\n",
    "plt.xlabel(\"pixel values\")\n",
    "plt.xlabel(\"# pixel\")\n",
    "plt.savefig(os.path.join(figures_path, \"train_distribution_vs.png\"), bbox_inches='tight', pad_inches=0)"
   ]
  },
  {
   "cell_type": "code",
   "execution_count": null,
   "metadata": {},
   "outputs": [],
   "source": [
    "values, edges = np.histogram(val_set_all[0][0][\"image\"], bins=200)\n",
    "values2, edges2 = np.histogram(val_set_all[0][1][\"t2\"], bins=200)\n",
    "fig = plt.figure(figsize=(15,5))\n",
    "plt.bar(edges[:-1], values, width=np.diff(edges), align=\"edge\", edgecolor=\"black\", \n",
    "        color=\"blue\", label=\"T1 (source)\")\n",
    "plt.bar(edges2[:-1], values2, width=np.diff(edges2), align=\"edge\", color=\"red\", \n",
    "        edgecolor=\"black\", alpha=0.5, label=\"T2 (target)\")\n",
    "plt.legend()\n",
    "plt.xlabel(\"pixel values\")\n",
    "plt.xlabel(\"# pixel\")\n",
    "plt.savefig(os.path.join(figures_path, \"val_distribution_vs.png\"), bbox_inches='tight', pad_inches=0)"
   ]
  },
  {
   "cell_type": "code",
   "execution_count": null,
   "metadata": {},
   "outputs": [],
   "source": [
    "values, edges = np.histogram(test_set_all[0][0][\"image\"], bins=200)\n",
    "values2, edges2 = np.histogram(test_set_all[0][1][\"t2\"], bins=200)\n",
    "fig = plt.figure(figsize=(15,5))\n",
    "plt.bar(edges[:-1], values, width=np.diff(edges), align=\"edge\", edgecolor=\"black\", \n",
    "        color=\"blue\", label=\"T1 (source)\")\n",
    "plt.bar(edges2[:-1], values2, width=np.diff(edges2), align=\"edge\", color=\"red\", \n",
    "        edgecolor=\"black\", alpha=0.5, label=\"T2 (target)\")\n",
    "plt.legend()\n",
    "plt.xlabel(\"pixel values\")\n",
    "plt.xlabel(\"# pixel\")\n",
    "plt.savefig(os.path.join(figures_path, \"test_distribution_vs.png\"), bbox_inches='tight', pad_inches=0)"
   ]
  },
  {
   "cell_type": "code",
   "execution_count": null,
   "metadata": {},
   "outputs": [],
   "source": []
  },
  {
   "cell_type": "markdown",
   "metadata": {},
   "source": [
    "## Unfiltered data"
   ]
  },
  {
   "cell_type": "code",
   "execution_count": null,
   "metadata": {},
   "outputs": [],
   "source": [
    "train_set_all = DataSet2DMixed(\"/tf/workdir/data/VS_segm/VS_registered/training\", \n",
    "                              input_data=[\"t1\"], input_name=[\"image\"], \n",
    "                              output_data=[\"t2\"], output_name=[\"t2\"],\n",
    "                              batch_size=1, shuffle=True, p_augm=0.0, dsize=(256,256), paired=False,\n",
    "                              alpha=-1, beta=1)\n",
    "val_set_all = DataSet2DMixed(\"/tf/workdir/data/VS_segm/VS_registered/validation\", \n",
    "                              input_data=[\"t1\"], input_name=[\"image\"], \n",
    "                              output_data=[\"t2\",], output_name=[\"t2\"], \n",
    "                              batch_size=1, shuffle=True, p_augm=0.0, dsize=(256,256), paired=False,\n",
    "                              alpha=-1, beta=1)\n",
    "test_set_all = DataSet2DMixed(\"/tf/workdir/data/VS_segm/VS_registered/test\", \n",
    "                              input_data=[\"t1\"], input_name=[\"image\"], \n",
    "                              output_data=[\"t2\"], output_name=[\"t2\"], paired=False,\n",
    "                              batch_size=1, shuffle=False, p_augm=0.0, dsize=(256,256),\n",
    "                              alpha=-1, beta=1)"
   ]
  },
  {
   "cell_type": "code",
   "execution_count": null,
   "metadata": {},
   "outputs": [],
   "source": [
    "train_set_all.batch_size = 1675#int(10450*0.2)\n",
    "val_set_all.batch_size = 365#int(2960*0.2)\n",
    "test_set_all.batch_size = 538#int(3898*0.2)"
   ]
  },
  {
   "cell_type": "code",
   "execution_count": null,
   "metadata": {},
   "outputs": [],
   "source": [
    "values, edges = np.histogram(train_set_all[0][0][\"image\"], bins=200)\n",
    "values2, edges2 = np.histogram(train_set_all[0][1][\"t2\"], bins=200)\n",
    "fig = plt.figure(figsize=(15,5))\n",
    "plt.bar(edges[:-1], values, width=np.diff(edges), align=\"edge\", edgecolor=\"black\", \n",
    "        color=\"blue\", label=\"T1 (source)\")\n",
    "plt.bar(edges2[:-1], values2, width=np.diff(edges2), align=\"edge\", color=\"red\", \n",
    "        edgecolor=\"black\", alpha=0.5, label=\"T2 (target)\")\n",
    "plt.legend()\n",
    "plt.xlabel(\"pixel values\")\n",
    "plt.savefig(os.path.join(figures_path, \"train_distribution.png\"), bbox_inches='tight', pad_inches=0)"
   ]
  },
  {
   "cell_type": "code",
   "execution_count": null,
   "metadata": {},
   "outputs": [],
   "source": [
    "values, edges = np.histogram(val_set_all[0][0][\"image\"], bins=200)\n",
    "values2, edges2 = np.histogram(val_set_all[0][1][\"t2\"], bins=200)\n",
    "fig = plt.figure(figsize=(15,5))\n",
    "plt.bar(edges[:-1], values, width=np.diff(edges), align=\"edge\", edgecolor=\"black\", \n",
    "        color=\"blue\", label=\"T1 (source)\")\n",
    "plt.bar(edges2[:-1], values2, width=np.diff(edges2), align=\"edge\", color=\"red\", \n",
    "        edgecolor=\"black\", alpha=0.5, label=\"T2 (target)\")\n",
    "plt.legend()\n",
    "plt.xlabel(\"pixel values\")\n",
    "plt.savefig(os.path.join(figures_path, \"val_distribution.png\"), bbox_inches='tight', pad_inches=0)"
   ]
  },
  {
   "cell_type": "code",
   "execution_count": null,
   "metadata": {},
   "outputs": [],
   "source": [
    "values, edges = np.histogram(test_set_all[0][0][\"image\"], bins=200)\n",
    "values2, edges2 = np.histogram(test_set_all[0][1][\"t2\"], bins=200)\n",
    "fig = plt.figure(figsize=(15,5))\n",
    "plt.bar(edges[:-1], values, width=np.diff(edges), align=\"edge\", edgecolor=\"black\", \n",
    "        color=\"blue\", label=\"T1 (source)\")\n",
    "plt.bar(edges2[:-1], values2, width=np.diff(edges2), align=\"edge\", color=\"red\", \n",
    "        edgecolor=\"black\", alpha=0.5, label=\"T2 (target)\")\n",
    "plt.legend()\n",
    "plt.xlabel(\"pixel values\")\n",
    "plt.savefig(os.path.join(figures_path, \"test_distribution.png\"), bbox_inches='tight', pad_inches=0)"
   ]
  },
  {
   "cell_type": "code",
   "execution_count": null,
   "metadata": {},
   "outputs": [],
   "source": []
  },
  {
   "cell_type": "markdown",
   "metadata": {},
   "source": [
    "## Balanced"
   ]
  },
  {
   "cell_type": "raw",
   "metadata": {},
   "source": [
    "train_set_all = DataSet2DMixed(\"/tf/workdir/data/VS_segm/VS_registered/training\", \n",
    "                              input_data=[\"t1\"], input_name=[\"image\"], \n",
    "                              output_data=[\"t2\"], output_name=[\"t2\"],\n",
    "                              batch_size=1, shuffle=True, p_augm=0.0, dsize=(256,256), paired=False,\n",
    "                              alpha=-1, beta=1)\n",
    "val_set_all = DataSet2DMixed(\"/tf/workdir/data/VS_segm/VS_registered/validation\", \n",
    "                              input_data=[\"t1\"], input_name=[\"image\"], \n",
    "                              output_data=[\"t2\",], output_name=[\"t2\"], \n",
    "                              batch_size=1, shuffle=True, p_augm=0.0, dsize=(256,256), paired=False,\n",
    "                              alpha=-1, beta=1)\n",
    "test_set_all = DataSet2DMixed(\"/tf/workdir/data/VS_segm/VS_registered/test\", \n",
    "                              input_data=[\"t1\"], input_name=[\"image\"], \n",
    "                              output_data=[\"t2\"], output_name=[\"t2\"], paired=False,\n",
    "                              batch_size=1, shuffle=False, p_augm=0.0, dsize=(256,256),\n",
    "                              alpha=-1, beta=1)"
   ]
  },
  {
   "cell_type": "code",
   "execution_count": null,
   "metadata": {},
   "outputs": [],
   "source": []
  },
  {
   "cell_type": "code",
   "execution_count": null,
   "metadata": {},
   "outputs": [],
   "source": []
  },
  {
   "cell_type": "markdown",
   "metadata": {},
   "source": [
    "## Filtered cochlea"
   ]
  },
  {
   "cell_type": "raw",
   "metadata": {},
   "source": [
    "train_set_all = DataSet2DMixed(\"/tf/workdir/data/VS_segm/VS_registered/training\", \n",
    "                              input_data=\"t1\", input_name=\"image\", \n",
    "                              output_data=\"t2\", output_name=\"t2\", use_filter=\"cochlea\", \n",
    "                              batch_size=1, shuffle=False, p_augm=0.0, dsize=(256,256),\n",
    "                              alpha=-1, beta=1)\n",
    "val_set_all = DataSet2DMixed(\"/tf/workdir/data/VS_segm/VS_registered/validation\", \n",
    "                              input_data=[\"t1\"], input_name=[\"image\"], \n",
    "                              output_data=[\"t2\"], output_name=[\"t2\"], use_filter=\"cochlea\",\n",
    "                              batch_size=1, shuffle=False, p_augm=0.0, dsize=(256,256),\n",
    "                              alpha=-1, beta=1)\n",
    "test_set_all = DataSet2DMixed(\"/tf/workdir/data/VS_segm/VS_registered/test\", \n",
    "                              input_data=[\"t1\"], input_name=[\"image\"], \n",
    "                              output_data=[\"t2\"], output_name=[\"t2\"], use_filter=\"cochlea\", \n",
    "                              batch_size=1, shuffle=False, p_augm=0.0, dsize=(256,256),\n",
    "                              alpha=-1, beta=1)"
   ]
  },
  {
   "cell_type": "code",
   "execution_count": null,
   "metadata": {},
   "outputs": [],
   "source": []
  },
  {
   "cell_type": "markdown",
   "metadata": {},
   "source": [
    "## Segmentation size"
   ]
  },
  {
   "cell_type": "code",
   "execution_count": null,
   "metadata": {},
   "outputs": [],
   "source": [
    "train_set_all = DataSet2DMixed(\"/tf/workdir/data/VS_segm/VS_registered/training\", \n",
    "                              input_data=[\"t1\"], input_name=[\"image\"], \n",
    "                              output_data=[\"vs\"], output_name=[\"vs\"], segm_size=0, \n",
    "                              batch_size=1, shuffle=False, p_augm=0.0, dsize=(256, 256),\n",
    "                              alpha=-1, beta=1)\n",
    "val_set_all = DataSet2DMixed(\"/tf/workdir/data/VS_segm/VS_registered/validation\", \n",
    "                              input_data=[\"t1\"], input_name=[\"image\"], \n",
    "                              output_data=[\"vs\"], output_name=[\"vs\"], segm_size=0, \n",
    "                              batch_size=1, shuffle=False, p_augm=0.0, dsize=(256, 256),\n",
    "                              alpha=-1, beta=1)\n",
    "test_set_all = DataSet2DMixed(\"/tf/workdir/data/VS_segm/VS_registered/test\", \n",
    "                              input_data=[\"t1\"], input_name=[\"image\"], \n",
    "                              output_data=[\"vs\"], output_name=[\"vs\"], segm_size=0, \n",
    "                              batch_size=1, shuffle=False, p_augm=0.0, dsize=(256, 256),\n",
    "                              alpha=-1, beta=1)"
   ]
  },
  {
   "cell_type": "code",
   "execution_count": null,
   "metadata": {},
   "outputs": [],
   "source": [
    "train_set_all.batch_size = 1\n",
    "val_set_all.batch_size = 1\n",
    "test_set_all.batch_size = 1"
   ]
  },
  {
   "cell_type": "code",
   "execution_count": null,
   "metadata": {},
   "outputs": [],
   "source": [
    "# train\n",
    "segm_size = []\n",
    "idx_small = []\n",
    "segm_size_small = []\n",
    "for idx in range(len(train_set_all)):\n",
    "    data = train_set_all[idx]\n",
    "    sz = int(np.sum(data[1][\"vs\"]))\n",
    "    segm_size.append(sz)\n",
    "\n",
    "fig = plt.figure(figsize=(15,10))\n",
    "plt.hist(segm_size, bins=20)\n",
    "plt.xlabel(\"VS size\")\n",
    "plt.ylabel(\"occurrence\")\n",
    "plt.savefig(os.path.join(figures_path, \"vs_size_hist_train.png\"), bbox_inches='tight', pad_inches=0)\n",
    "\n",
    "fig = plt.figure(figsize=(15,10))\n",
    "plt.hist([s for s in segm_size if s < 100], bins=10)\n",
    "plt.xlabel(\"VS size\")\n",
    "plt.ylabel(\"occurrence\")\n",
    "plt.show()"
   ]
  },
  {
   "cell_type": "code",
   "execution_count": null,
   "metadata": {},
   "outputs": [],
   "source": [
    "idx_small = [idx for idx, s in enumerate(segm_size) if 18<s<20]\n",
    "data = train_set_all[idx_small[0]]\n",
    "fig = plt.figure(figsize=(10,10))\n",
    "plt.imshow(data[0][\"image\"][0,:,:], cmap=\"gray\")\n",
    "plt.imshow(data[1][\"vs\"][0,:,:], alpha=0.3)\n",
    "print(np.sum(data[1][\"vs\"][0,:,:]))\n",
    "plt.axis(\"off\")\n",
    "plt.savefig(os.path.join(figures_path, \"vs_size_img_train_19.png\"), bbox_inches='tight', pad_inches=0)\n",
    "\n",
    "idx_small = [idx for idx, s in enumerate(segm_size) if 199<s<201]\n",
    "data = train_set_all[idx_small[0]]\n",
    "fig = plt.figure(figsize=(10,10))\n",
    "plt.imshow(data[0][\"image\"][0,:,:], cmap=\"gray\")\n",
    "plt.imshow(data[1][\"vs\"][0,:,:], alpha=0.3)\n",
    "print(np.sum(data[1][\"vs\"][0,:,:]))\n",
    "plt.axis(\"off\")\n",
    "plt.savefig(os.path.join(figures_path, \"vs_size_img_train_200.png\"), bbox_inches='tight', pad_inches=0)\n",
    "\n",
    "idx_small = [idx for idx, s in enumerate(segm_size) if 399<s<401]\n",
    "data = train_set_all[idx_small[0]]\n",
    "fig = plt.figure(figsize=(10,10))\n",
    "plt.imshow(data[0][\"image\"][0,:,:], cmap=\"gray\")\n",
    "plt.imshow(data[1][\"vs\"][0,:,:], alpha=0.3)\n",
    "print(np.sum(data[1][\"vs\"][0,:,:]))\n",
    "plt.axis(\"off\")\n",
    "plt.savefig(os.path.join(figures_path, \"vs_size_img_train_400.png\"), bbox_inches='tight', pad_inches=0)"
   ]
  },
  {
   "cell_type": "code",
   "execution_count": null,
   "metadata": {},
   "outputs": [],
   "source": [
    "# val\n",
    "segm_size = []\n",
    "idx_small = []\n",
    "segm_size_small = []\n",
    "for idx in range(len(val_set_all)):\n",
    "    data = val_set_all[idx]\n",
    "    sz = int(np.sum(data[1][\"vs\"]))\n",
    "    segm_size.append(sz)\n",
    "\n",
    "fig = plt.figure(figsize=(15,10))\n",
    "plt.hist(segm_size, bins=20)\n",
    "plt.xlabel(\"VS size\")\n",
    "plt.ylabel(\"occurrence\")\n",
    "plt.savefig(os.path.join(figures_path, \"vs_size_hist_val.png\"), bbox_inches='tight', pad_inches=0)\n",
    "\n",
    "fig = plt.figure(figsize=(15,10))\n",
    "plt.hist([s for s in segm_size if s < 100], bins=10)\n",
    "plt.xlabel(\"VS size\")\n",
    "plt.ylabel(\"occurrence\")\n",
    "plt.show()"
   ]
  },
  {
   "cell_type": "code",
   "execution_count": null,
   "metadata": {},
   "outputs": [],
   "source": [
    "idx_small = [idx for idx, s in enumerate(segm_size) if 18<s<20]\n",
    "data = val_set_all[idx_small[0]]\n",
    "fig = plt.figure(figsize=(10,10))\n",
    "plt.imshow(data[0][\"image\"][0,:,:], cmap=\"gray\")\n",
    "plt.imshow(data[1][\"vs\"][0,:,:], alpha=0.3)\n",
    "print(np.sum(data[1][\"vs\"][0,:,:]))\n",
    "plt.axis(\"off\")\n",
    "plt.savefig(os.path.join(figures_path, \"vs_size_img_val_19.png\"), bbox_inches='tight', pad_inches=0)\n",
    "\n",
    "idx_small = [idx for idx, s in enumerate(segm_size) if 199<s<202]\n",
    "data = val_set_all[idx_small[0]]\n",
    "fig = plt.figure(figsize=(10,10))\n",
    "plt.imshow(data[0][\"image\"][0,:,:], cmap=\"gray\")\n",
    "plt.imshow(data[1][\"vs\"][0,:,:], alpha=0.3)\n",
    "print(np.sum(data[1][\"vs\"][0,:,:]))\n",
    "plt.axis(\"off\")\n",
    "plt.savefig(os.path.join(figures_path, \"vs_size_img_val_200.png\"), bbox_inches='tight', pad_inches=0)\n",
    "\n",
    "idx_small = [idx for idx, s in enumerate(segm_size) if 385<s<415]\n",
    "data = val_set_all[idx_small[0]]\n",
    "fig = plt.figure(figsize=(10,10))\n",
    "plt.imshow(data[0][\"image\"][0,:,:], cmap=\"gray\")\n",
    "plt.imshow(data[1][\"vs\"][0,:,:], alpha=0.3)\n",
    "print(np.sum(data[1][\"vs\"][0,:,:]))\n",
    "plt.axis(\"off\")\n",
    "plt.savefig(os.path.join(figures_path, \"vs_size_img_val_400.png\"), bbox_inches='tight', pad_inches=0)"
   ]
  },
  {
   "cell_type": "code",
   "execution_count": null,
   "metadata": {},
   "outputs": [],
   "source": [
    "# test\n",
    "segm_size = []\n",
    "idx_small = []\n",
    "segm_size_small = []\n",
    "for idx in range(len(test_set_all)):\n",
    "    data = test_set_all[idx]\n",
    "    sz = int(np.sum(data[1][\"vs\"]))\n",
    "    segm_size.append(sz)\n",
    "    if sz < 100:\n",
    "        segm_size_small.append(sz)\n",
    "    if sz < 20:\n",
    "        idx_small.append(idx)\n",
    "\n",
    "fig = plt.figure(figsize=(15,10))\n",
    "plt.hist(segm_size, bins=20)\n",
    "plt.xlabel(\"VS size\")\n",
    "plt.ylabel(\"occurrence\")\n",
    "plt.savefig(os.path.join(figures_path, \"vs_size_hist_test.png\"), bbox_inches='tight', pad_inches=0)\n",
    "\n",
    "fig = plt.figure(figsize=(15,10))\n",
    "plt.hist([s for s in segm_size if s < 100], bins=10)\n",
    "plt.xlabel(\"VS size\")\n",
    "plt.ylabel(\"occurrence\")\n",
    "plt.show()"
   ]
  },
  {
   "cell_type": "code",
   "execution_count": null,
   "metadata": {},
   "outputs": [],
   "source": [
    "idx_small = [idx for idx, s in enumerate(segm_size) if 18<s<20]\n",
    "data = test_set_all[idx_small[0]]\n",
    "fig = plt.figure(figsize=(10,10))\n",
    "plt.imshow(data[0][\"image\"][0,:,:], cmap=\"gray\")\n",
    "plt.imshow(data[1][\"vs\"][0,:,:], alpha=0.3)\n",
    "print(np.sum(data[1][\"vs\"][0,:,:]))\n",
    "plt.axis(\"off\")\n",
    "plt.savefig(os.path.join(figures_path, \"vs_size_img_test_19.png\"), bbox_inches='tight', pad_inches=0)\n",
    "\n",
    "idx_small = [idx for idx, s in enumerate(segm_size) if 199<s<202]\n",
    "data = test_set_all[idx_small[0]]\n",
    "fig = plt.figure(figsize=(10,10))\n",
    "plt.imshow(data[0][\"image\"][0,:,:], cmap=\"gray\")\n",
    "plt.imshow(data[1][\"vs\"][0,:,:], alpha=0.3)\n",
    "print(np.sum(data[1][\"vs\"][0,:,:]))\n",
    "plt.axis(\"off\")\n",
    "plt.savefig(os.path.join(figures_path, \"vs_size_img_test_200.png\"), bbox_inches='tight', pad_inches=0)\n",
    "\n",
    "idx_small = [idx for idx, s in enumerate(segm_size) if 385<s<415]\n",
    "data = test_set_all[idx_small[0]]\n",
    "fig = plt.figure(figsize=(10,10))\n",
    "plt.imshow(data[0][\"image\"][0,:,:], cmap=\"gray\")\n",
    "plt.imshow(data[1][\"vs\"][0,:,:], alpha=0.3)\n",
    "print(np.sum(data[1][\"vs\"][0,:,:]))\n",
    "plt.axis(\"off\")\n",
    "plt.savefig(os.path.join(figures_path, \"vs_size_img_test_400.png\"), bbox_inches='tight', pad_inches=0)"
   ]
  },
  {
   "cell_type": "code",
   "execution_count": null,
   "metadata": {},
   "outputs": [],
   "source": []
  },
  {
   "cell_type": "code",
   "execution_count": null,
   "metadata": {},
   "outputs": [],
   "source": [
    "train_size = []\n",
    "val_size = []\n",
    "test_size = []\n",
    "for segm_size in [0,10,20,30,40,50,60,70,80,90,100]:\n",
    "    print(segm_size)\n",
    "    train_set_all = DataSet2DMixed(\"/tf/workdir/data/VS_segm/VS_registered/training\", \n",
    "                                  input_data=[\"t1\"], input_name=[\"image\"], \n",
    "                                  output_data=[\"vs\"], output_name=[\"vs\"], segm_size=segm_size, \n",
    "                                  batch_size=1, shuffle=False, p_augm=0.0, dsize=(256, 256),\n",
    "                                  alpha=-1, beta=1)\n",
    "    val_set_all = DataSet2DMixed(\"/tf/workdir/data/VS_segm/VS_registered/validation\", \n",
    "                                  input_data=[\"t1\"], input_name=[\"image\"], \n",
    "                                  output_data=[\"vs\"], output_name=[\"vs\"], segm_size=segm_size, \n",
    "                                  batch_size=1, shuffle=False, p_augm=0.0, dsize=(256, 256),\n",
    "                                  alpha=-1, beta=1)\n",
    "    test_set_all = DataSet2DMixed(\"/tf/workdir/data/VS_segm/VS_registered/test\", \n",
    "                                  input_data=[\"t1\"], input_name=[\"image\"], \n",
    "                                  output_data=[\"vs\"], output_name=[\"vs\"], segm_size=segm_size, \n",
    "                                  batch_size=1, shuffle=False, p_augm=0.0, dsize=(256, 256),\n",
    "                                  alpha=-1, beta=1)\n",
    "    train_size.append(len(train_set_all))\n",
    "    val_size.append(len(val_set_all))\n",
    "    test_size.append(len(test_set_all))"
   ]
  },
  {
   "cell_type": "code",
   "execution_count": null,
   "metadata": {},
   "outputs": [],
   "source": [
    "train_size, val_size, test_size"
   ]
  },
  {
   "cell_type": "code",
   "execution_count": null,
   "metadata": {},
   "outputs": [],
   "source": []
  }
 ],
 "metadata": {
  "kernelspec": {
   "display_name": "Python 3",
   "language": "python",
   "name": "python3"
  },
  "language_info": {
   "codemirror_mode": {
    "name": "ipython",
    "version": 3
   },
   "file_extension": ".py",
   "mimetype": "text/x-python",
   "name": "python",
   "nbconvert_exporter": "python",
   "pygments_lexer": "ipython3",
   "version": "3.6.9"
  }
 },
 "nbformat": 4,
 "nbformat_minor": 2
}

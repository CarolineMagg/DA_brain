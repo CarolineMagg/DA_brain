{
 "cells": [
  {
   "cell_type": "markdown",
   "metadata": {},
   "source": [
    "# Generate examples\n",
    "\n",
    "date: 08 Sept, 2021 <br>\n",
    "\n",
    "content: <br>\n",
    "* dataset sample\n",
    "* data processing with image and histogram"
   ]
  },
  {
   "cell_type": "code",
   "execution_count": null,
   "metadata": {},
   "outputs": [],
   "source": [
    "import nibabel as nib\n",
    "import matplotlib.pyplot as plt\n",
    "import matplotlib as mpl\n",
    "import numpy as np\n",
    "import copy\n",
    "import cv2\n",
    "import sys\n",
    "import os\n",
    "import pandas as pd"
   ]
  },
  {
   "cell_type": "code",
   "execution_count": null,
   "metadata": {},
   "outputs": [],
   "source": [
    "%config Completer.use_jedi = False\n",
    "%matplotlib inline"
   ]
  },
  {
   "cell_type": "code",
   "execution_count": null,
   "metadata": {},
   "outputs": [],
   "source": [
    "def convert_to_color(array):\n",
    "    mask = np.zeros((array.shape[0], array.shape[1],3), dtype=\"uint8\")\n",
    "    mask[:,:,0] = array * 255 # for red\n",
    "    return mask"
   ]
  },
  {
   "cell_type": "code",
   "execution_count": null,
   "metadata": {},
   "outputs": [],
   "source": [
    "figures_path = \"/tf/workdir/DA_brain/screenshots/\""
   ]
  },
  {
   "cell_type": "markdown",
   "metadata": {},
   "source": [
    "## Dataset sample"
   ]
  },
  {
   "cell_type": "code",
   "execution_count": null,
   "metadata": {},
   "outputs": [],
   "source": [
    "sys.path.append(os.path.abspath('../data_utils'))\n",
    "sys.path.append(os.path.abspath('../models'))"
   ]
  },
  {
   "cell_type": "code",
   "execution_count": null,
   "metadata": {},
   "outputs": [],
   "source": [
    "from data_utils.DataSet2DMixed import DataSet2DMixed"
   ]
  },
  {
   "cell_type": "code",
   "execution_count": null,
   "metadata": {},
   "outputs": [],
   "source": [
    "dataset = DataSet2DMixed(\"/tf/workdir/data/VS_segm/VS_registered/training\", batch_size=16,\n",
    "                          input_data=[\"t1\", \"t2\"], input_name=[\"image\", \"t2\"], shuffle=False,\n",
    "                         output_data=[\"vs\", \"vs_class\"], output_name=[\"vs_out\", \"vs_class_out\"],\n",
    "                         segm_size=100)\n",
    "len(dataset)"
   ]
  },
  {
   "cell_type": "code",
   "execution_count": null,
   "metadata": {},
   "outputs": [],
   "source": [
    "data = dataset[0]"
   ]
  },
  {
   "cell_type": "code",
   "execution_count": null,
   "metadata": {},
   "outputs": [],
   "source": [
    "idx = 3\n",
    "t1 = data[0][\"image\"][idx]\n",
    "t2 = data[0][\"t2\"][idx]\n",
    "vs = convert_to_color(data[1][\"vs_out\"][idx])\n",
    "\n",
    "fig = plt.figure(figsize=(10,10))\n",
    "plt.imshow(t1, cmap=\"gray\")\n",
    "plt.imshow(vs, alpha=0.4)\n",
    "plt.axis('off')\n",
    "plt.savefig(os.path.join(figures_path, \"example_t1_vs.png\"), bbox_inches='tight', pad_inches=0)\n",
    "\n",
    "fig = plt.figure(figsize=(10,10))\n",
    "plt.imshow(t2, cmap=\"gray\")\n",
    "plt.imshow(vs, alpha=0.4)\n",
    "plt.axis('off')\n",
    "plt.savefig(os.path.join(figures_path, \"example_t2_vs.png\"), bbox_inches='tight', pad_inches=0)"
   ]
  },
  {
   "cell_type": "code",
   "execution_count": null,
   "metadata": {},
   "outputs": [],
   "source": [
    "\n",
    "t1 = data[0][\"image\"][idx]\n",
    "t2 = data[0][\"t2\"][idx]\n",
    "\n",
    "fig = plt.figure(figsize=(10,10))\n",
    "plt.imshow(t1, cmap=\"gray\")\n",
    "plt.axis('off')\n",
    "plt.savefig(os.path.join(figures_path, \"example_t1.png\"), bbox_inches='tight', pad_inches=0)\n",
    "\n",
    "fig = plt.figure(figsize=(10,10))\n",
    "plt.imshow(t2, cmap=\"gray\")\n",
    "plt.axis('off')\n",
    "plt.savefig(os.path.join(figures_path, \"example_t2.png\"), bbox_inches='tight', pad_inches=0)\n"
   ]
  },
  {
   "cell_type": "code",
   "execution_count": null,
   "metadata": {},
   "outputs": [],
   "source": [
    "vs = data[1][\"vs_out\"][idx]\n",
    "\n",
    "fig = plt.figure(figsize=(10,10))\n",
    "plt.imshow(vs, cmap=\"gray\")\n",
    "plt.axis('off')\n",
    "plt.savefig(os.path.join(figures_path, \"example_vs.png\"), bbox_inches='tight', pad_inches=0)"
   ]
  },
  {
   "cell_type": "markdown",
   "metadata": {},
   "source": [
    "## Data processing steps"
   ]
  },
  {
   "cell_type": "code",
   "execution_count": null,
   "metadata": {},
   "outputs": [],
   "source": []
  },
  {
   "cell_type": "code",
   "execution_count": null,
   "metadata": {},
   "outputs": [],
   "source": [
    "def load_data_from_folder(data_folder, subfiles=None):\n",
    "    \"\"\"\n",
    "    Load data from data folder\n",
    "    :param data_folder: path to data folder\n",
    "    :param subfiles: subfiles in data folder\n",
    "    :return: list with images as np.arrays\n",
    "    \"\"\"\n",
    "\n",
    "    if subfiles is None:\n",
    "        subfiles = [\"vs_gk_t1_refT1.nii\", \"vs_gk_t2_refT1.nii\", \n",
    "                    [f for f in os.listdir(data_folder) if \"vs_gk_struc1\" in f][0], \"vs_gk_statistics.json\"]\n",
    "\n",
    "    path = [os.path.join(data_folder, f) for f in subfiles]\n",
    "    images = [nib.load(p) for p in path[:-1]]\n",
    "    return [img.get_fdata() for img in images], pd.read_json(path[-1])\n",
    "\n",
    "def get_non_zero_slices_segmentation(segmentation):\n",
    "    \"\"\"\n",
    "    Extract all slices of segmentation that are non-zero\n",
    "    :param segmentation: np.array segmentation mask\n",
    "    :return: list with non-zero slice indices\n",
    "    \"\"\"\n",
    "    non_zero_index = []\n",
    "    for idx in range(0, segmentation.shape[2]):\n",
    "        if np.sum(segmentation[:, :, idx]) != 0:\n",
    "            non_zero_index.append(idx)\n",
    "    return non_zero_index"
   ]
  },
  {
   "cell_type": "code",
   "execution_count": null,
   "metadata": {},
   "outputs": [],
   "source": [
    "# load NIFTI images\n",
    "data, stats = load_data_from_folder(\"/tf/workdir/data/VS_segm/VS_registered/training/vs_gk_1\")\n",
    "\n",
    "# determine median slice that has segmentation mask\n",
    "slice_to_vis = int(np.round(np.mean(get_non_zero_slices_segmentation(data[2]))))"
   ]
  },
  {
   "cell_type": "code",
   "execution_count": null,
   "metadata": {},
   "outputs": [],
   "source": [
    "stats"
   ]
  },
  {
   "cell_type": "code",
   "execution_count": null,
   "metadata": {},
   "outputs": [],
   "source": [
    "plt.rcParams.update({'font.size': 22})"
   ]
  },
  {
   "cell_type": "code",
   "execution_count": null,
   "metadata": {},
   "outputs": [],
   "source": [
    "# original\n",
    "fig = plt.figure(figsize=(10,10))\n",
    "plt.imshow(data[0][:,:,slice_to_vis], cmap=\"gray\")\n",
    "plt.imshow(convert_to_color(data[2][:,:,slice_to_vis]), alpha=0.4)\n",
    "plt.axis('off')\n",
    "plt.savefig(os.path.join(figures_path, \"dist_t1_vs_orig.png\"), bbox_inches='tight', pad_inches=0)\n",
    "\n",
    "\n",
    "fig = plt.figure(figsize=(10,10))\n",
    "plt.imshow(data[1][:,:,slice_to_vis], cmap=\"gray\")\n",
    "plt.imshow(convert_to_color(data[2][:,:,slice_to_vis]), alpha=0.4)\n",
    "plt.axis('off')\n",
    "plt.savefig(os.path.join(figures_path, \"dist_t2_vs_orig.png\"), bbox_inches='tight', pad_inches=0)\n",
    "\n",
    "\n",
    "values, edges = np.histogram(data[0][:,:,slice_to_vis], bins=200)\n",
    "values2, edges2 = np.histogram(data[1][:,:,slice_to_vis], bins=200)\n",
    "fig = plt.figure(figsize=(10,5))\n",
    "plt.bar(edges[:-1], values, width=np.diff(edges), align=\"edge\", edgecolor=\"black\", \n",
    "        color=\"blue\", label=\"T1 (source)\")\n",
    "plt.bar(edges2[:-1], values2, width=np.diff(edges2), align=\"edge\", color=\"red\", \n",
    "        edgecolor=\"black\", alpha=0.5, label=\"T2 (target)\")\n",
    "plt.legend()\n",
    "plt.xlabel(\"pixel values\")\n",
    "plt.ylabel(\"occurrence\")\n",
    "plt.savefig(os.path.join(figures_path, \"dist_hist_orig.png\"), bbox_inches='tight', pad_inches=0)\n"
   ]
  },
  {
   "cell_type": "code",
   "execution_count": null,
   "metadata": {},
   "outputs": [],
   "source": [
    "values, edges = np.histogram(data[0][:,:,slice_to_vis], bins=200)\n",
    "values2, edges2 = np.histogram(data[1][:,:,slice_to_vis], bins=200)\n",
    "fig = plt.figure(figsize=(10,5))\n",
    "plt.bar(edges[:-1], values, width=np.diff(edges), align=\"edge\", edgecolor=\"black\", \n",
    "        color=\"blue\", label=\"T1 (source)\")\n",
    "plt.bar(edges2[:-1], values2, width=np.diff(edges2), align=\"edge\", color=\"red\", \n",
    "        edgecolor=\"black\", alpha=0.5, label=\"T2 (target)\")\n",
    "plt.vlines(float(stats[\"t1\"][\"1st_percentile\"]), 0, 50000, color=\"blue\", linestyle=\"dashed\")\n",
    "plt.vlines(float(stats[\"t2\"][\"1st_percentile\"]), 0, 50000, color=\"red\", linestyle=\"dashed\")\n",
    "plt.vlines(float(stats[\"t1\"][\"99th_percentile\"]), 0, 50000, color=\"blue\", linestyle=\"dashed\")\n",
    "plt.vlines(float(stats[\"t2\"][\"99th_percentile\"]), 0, 50000, color=\"red\", linestyle=\"dashed\")\n",
    "plt.legend()\n",
    "plt.xlabel(\"pixel values\")\n",
    "plt.ylabel(\"occurrence\")\n",
    "plt.savefig(os.path.join(figures_path, \"dist_hist_limits.png\"), bbox_inches='tight', pad_inches=0)"
   ]
  },
  {
   "cell_type": "code",
   "execution_count": null,
   "metadata": {},
   "outputs": [],
   "source": [
    "# clip\n",
    "sample = np.clip(data[0][:,:,slice_to_vis], float(stats[\"t1\"][\"1st_percentile\"]),\n",
    "                         float(stats[\"t1\"][\"99th_percentile\"]))\n",
    "sample2 = np.clip(data[1][:,:,slice_to_vis], float(stats[\"t2\"][\"1st_percentile\"]),\n",
    "                         float(stats[\"t2\"][\"99th_percentile\"]))\n",
    "fig = plt.figure(figsize=(10,10))\n",
    "plt.imshow(sample, cmap=\"gray\")\n",
    "plt.imshow(convert_to_color(data[2][:,:,slice_to_vis]), alpha=0.4)\n",
    "plt.axis('off')\n",
    "plt.savefig(os.path.join(figures_path, \"dist_t1_vs_afterP1.png\"), bbox_inches='tight', pad_inches=0)\n",
    "\n",
    "fig = plt.figure(figsize=(10,10))\n",
    "plt.imshow(sample2, cmap=\"gray\")\n",
    "plt.imshow(convert_to_color(data[2][:,:,slice_to_vis]), alpha=0.4)\n",
    "plt.axis('off')\n",
    "plt.savefig(os.path.join(figures_path, \"dist_t2_vs_afterP1.png\"), bbox_inches='tight', pad_inches=0)\n",
    "\n",
    "values, edges = np.histogram(sample, bins=200)\n",
    "values2, edges2 = np.histogram(sample2, bins=200)\n",
    "fig = plt.figure(figsize=(10,5))\n",
    "plt.bar(edges[:-1], values, width=np.diff(edges), align=\"edge\", edgecolor=\"black\", \n",
    "        color=\"blue\", label=\"T1 (source)\")\n",
    "plt.bar(edges2[:-1], values2, width=np.diff(edges2), align=\"edge\", color=\"red\", \n",
    "        edgecolor=\"black\", alpha=0.5, label=\"T2 (target)\")\n",
    "plt.legend()\n",
    "plt.xlabel(\"pixel values\")\n",
    "plt.ylabel(\"occurrence\")\n",
    "plt.savefig(os.path.join(figures_path, \"dist_hist_afterP1.png\"), bbox_inches='tight', pad_inches=0)"
   ]
  },
  {
   "cell_type": "code",
   "execution_count": null,
   "metadata": {},
   "outputs": [],
   "source": [
    "print(float(stats[\"t1\"][\"1st_percentile\"]), float(stats[\"t1\"][\"99th_percentile\"]))\n",
    "print(float(stats[\"t2\"][\"1st_percentile\"]), float(stats[\"t2\"][\"99th_percentile\"]))"
   ]
  },
  {
   "cell_type": "code",
   "execution_count": null,
   "metadata": {},
   "outputs": [],
   "source": [
    "# z score normalization\n",
    "sample = (sample - float(stats[\"t1\"][\"mean\"])) / float(stats[\"t1\"][\"std\"])\n",
    "sample2 = (sample2 - float(stats[\"t2\"][\"mean\"])) / float(stats[\"t2\"][\"std\"])\n",
    "fig = plt.figure(figsize=(10,10))\n",
    "plt.imshow(sample, cmap=\"gray\")\n",
    "plt.imshow(convert_to_color(data[2][:,:,slice_to_vis]), alpha=0.4)\n",
    "plt.axis('off')\n",
    "plt.savefig(os.path.join(figures_path, \"dist_t1_vs_afterP2.png\"), bbox_inches='tight', pad_inches=0)\n",
    "\n",
    "fig = plt.figure(figsize=(10,10))\n",
    "plt.imshow(sample2, cmap=\"gray\")\n",
    "plt.imshow(convert_to_color(data[2][:,:,slice_to_vis]), alpha=0.4)\n",
    "plt.axis('off')\n",
    "plt.savefig(os.path.join(figures_path, \"dist_t2_vs_afterP2.png\"), bbox_inches='tight', pad_inches=0)\n",
    "\n",
    "values, edges = np.histogram(sample, bins=200)\n",
    "values2, edges2 = np.histogram(sample2, bins=200)\n",
    "fig = plt.figure(figsize=(10,5))\n",
    "plt.bar(edges[:-1], values, width=np.diff(edges), align=\"edge\", edgecolor=\"black\", \n",
    "        color=\"blue\", label=\"T1 (source)\")\n",
    "plt.bar(edges2[:-1], values2, width=np.diff(edges2), align=\"edge\", color=\"red\", \n",
    "        edgecolor=\"black\", alpha=0.5, label=\"T2 (target)\")\n",
    "plt.legend()\n",
    "plt.xlabel(\"pixel values\")\n",
    "plt.ylabel(\"occurrence\")\n",
    "plt.savefig(os.path.join(figures_path, \"dist_hist_afterP2.png\"), bbox_inches='tight', pad_inches=0)"
   ]
  },
  {
   "cell_type": "code",
   "execution_count": null,
   "metadata": {},
   "outputs": [],
   "source": [
    "# range [0,1] volume-based\n",
    "sample = (sample - float(stats[\"t1\"][\"min\"])) / (\n",
    "                float(stats[\"t1\"][\"max\"]) - float(stats[\"t1\"][\"min\"]))\n",
    "sample2 = (sample2 - float(stats[\"t2\"][\"min\"])) / (\n",
    "                float(stats[\"t2\"][\"max\"]) - float(stats[\"t2\"][\"min\"]))\n",
    "fig = plt.figure(figsize=(10,10))\n",
    "plt.imshow(sample, cmap=\"gray\")\n",
    "plt.imshow(convert_to_color(data[2][:,:,slice_to_vis]), cmap=\"gray\", alpha=0.4)\n",
    "plt.axis('off')\n",
    "plt.savefig(os.path.join(figures_path, \"dist_t1_vs_afterP3.png\"), bbox_inches='tight', pad_inches=0)\n",
    "\n",
    "fig = plt.figure(figsize=(10,10))\n",
    "plt.imshow(sample2, cmap=\"gray\")\n",
    "plt.imshow(convert_to_color(data[2][:,:,slice_to_vis]), cmap=\"gray\", alpha=0.4)\n",
    "plt.axis('off')\n",
    "plt.savefig(os.path.join(figures_path, \"dist_t2_vs_afterP3.png\"), bbox_inches='tight', pad_inches=0)\n",
    "\n",
    "values, edges = np.histogram(sample, bins=200)\n",
    "values2, edges2 = np.histogram(sample2, bins=200)\n",
    "fig = plt.figure(figsize=(10,5))\n",
    "plt.bar(edges[:-1], values, width=np.diff(edges), align=\"edge\", edgecolor=\"black\", \n",
    "        color=\"blue\", label=\"T1 (source)\")\n",
    "plt.bar(edges2[:-1], values2, width=np.diff(edges2), align=\"edge\", color=\"red\", \n",
    "        edgecolor=\"black\", alpha=0.5, label=\"T2 (target)\")\n",
    "plt.legend()\n",
    "plt.xlabel(\"pixel values\")\n",
    "plt.ylabel(\"occurrence\")\n",
    "plt.savefig(os.path.join(figures_path, \"dist_hist_afterP3.png\"), bbox_inches='tight', pad_inches=0)"
   ]
  },
  {
   "cell_type": "code",
   "execution_count": null,
   "metadata": {},
   "outputs": [],
   "source": [
    "print(np.max(sample), np.min(sample))\n",
    "print(np.max(sample2), np.min(sample))"
   ]
  },
  {
   "cell_type": "code",
   "execution_count": null,
   "metadata": {},
   "outputs": [],
   "source": [
    "# range [-1,1]\n",
    "alpha = -1\n",
    "beta = 1\n",
    "sample = ((sample - np.min(sample)) / (np.max(sample) - np.min(sample))) * (beta - alpha) + alpha\n",
    "sample2 = ((sample2 - np.min(sample2)) / (np.max(sample2) - np.min(sample2))) * (beta - alpha) + alpha\n",
    "\n",
    "fig = plt.figure(figsize=(10,10))\n",
    "plt.imshow(sample, cmap=\"gray\")\n",
    "plt.imshow(convert_to_color(data[2][:,:,slice_to_vis]), alpha=0.4)\n",
    "plt.axis('off')\n",
    "plt.savefig(os.path.join(figures_path, \"dist_t1_vs_afterP4.png\"), bbox_inches='tight', pad_inches=0)\n",
    "\n",
    "fig = plt.figure(figsize=(10,10))\n",
    "plt.imshow(sample2, cmap=\"gray\")\n",
    "plt.imshow(convert_to_color(data[2][:,:,slice_to_vis]), alpha=0.4)\n",
    "plt.axis('off')\n",
    "plt.savefig(os.path.join(figures_path, \"dist_t2_vs_afterP4.png\"), bbox_inches='tight', pad_inches=0)\n",
    "\n",
    "values, edges = np.histogram(sample, bins=200)\n",
    "values2, edges2 = np.histogram(sample2, bins=200)\n",
    "fig = plt.figure(figsize=(10,5))\n",
    "plt.bar(edges[:-1], values, width=np.diff(edges), align=\"edge\", edgecolor=\"black\", \n",
    "        color=\"blue\", label=\"T1 (source)\")\n",
    "plt.bar(edges2[:-1], values2, width=np.diff(edges2), align=\"edge\", color=\"red\", \n",
    "        edgecolor=\"black\", alpha=0.5, label=\"T2 (target)\")\n",
    "plt.legend()\n",
    "plt.xlabel(\"pixel values\")\n",
    "plt.ylabel(\"occurrence\")\n",
    "plt.savefig(os.path.join(figures_path, \"dist_hist_afterP4.png\"), bbox_inches='tight', pad_inches=0)"
   ]
  },
  {
   "cell_type": "code",
   "execution_count": null,
   "metadata": {},
   "outputs": [],
   "source": [
    "print(np.max(sample), np.min(sample))\n",
    "print(np.max(sample2), np.min(sample))"
   ]
  },
  {
   "cell_type": "markdown",
   "metadata": {},
   "source": [
    "## Data Augmentation"
   ]
  },
  {
   "cell_type": "code",
   "execution_count": null,
   "metadata": {},
   "outputs": [],
   "source": [
    "import albumentations as A"
   ]
  },
  {
   "cell_type": "code",
   "execution_count": null,
   "metadata": {},
   "outputs": [],
   "source": [
    "dataset = DataSet2DMixed(\"/tf/workdir/data/VS_segm/VS_registered/training\", batch_size=16,\n",
    "                          input_data=[\"t1\", \"t2\"], input_name=[\"image\", \"t2\"], shuffle=False,\n",
    "                         output_data=[\"vs\", \"vs_class\"], output_name=[\"vs_out\", \"vs_class_out\"],\n",
    "                         segm_size=100)\n",
    "len(dataset)"
   ]
  },
  {
   "cell_type": "code",
   "execution_count": null,
   "metadata": {},
   "outputs": [],
   "source": [
    "data = dataset[0]"
   ]
  },
  {
   "cell_type": "code",
   "execution_count": null,
   "metadata": {},
   "outputs": [],
   "source": [
    "idx = 3\n",
    "t1 = data[0][\"image\"][idx]\n",
    "vs = convert_to_color(data[1][\"vs_out\"][idx])\n",
    "fig = plt.figure(figsize=(10,10))\n",
    "plt.imshow(t1, cmap=\"gray\")\n",
    "plt.imshow(vs, alpha=0.5)\n",
    "plt.axis('off')\n",
    "plt.savefig(os.path.join(figures_path, \"augm_t1_without.png\"), bbox_inches='tight', pad_inches=0)"
   ]
  },
  {
   "cell_type": "code",
   "execution_count": null,
   "metadata": {},
   "outputs": [],
   "source": [
    "augm_methods1 = [A.ShiftScaleRotate(p=1, rotate_limit=20, border_mode=cv2.BORDER_CONSTANT)]\n",
    "augm_methods2 = [A.VerticalFlip(p=1)]\n",
    "augm_methods3 = [A.GaussianBlur(p=1, blur_limit=(5, 7))]\n",
    "augm_methods4 = [A.MedianBlur(p=1, blur_limit=5)]\n",
    "augm_methods5 = [A.MotionBlur(p=1, blur_limit=(5,7))]\n",
    "\n",
    "idx = 3\n",
    "t1 = data[0][\"image\"][idx]\n",
    "vs = convert_to_color(data[1][\"vs_out\"][idx])"
   ]
  },
  {
   "cell_type": "code",
   "execution_count": null,
   "metadata": {},
   "outputs": [],
   "source": [
    "transform = A.Compose(augm_methods1)\n",
    "transformed = transform(image=t1, mask=vs)\n",
    "fig = plt.figure(figsize=(10,10))\n",
    "plt.imshow(transformed[\"image\"], cmap=\"gray\")\n",
    "plt.imshow(transformed[\"mask\"], alpha=0.4)\n",
    "plt.axis('off')\n",
    "plt.savefig(os.path.join(figures_path, \"augm_t1_shiftscalerotation.png\"), bbox_inches='tight', pad_inches=0)"
   ]
  },
  {
   "cell_type": "code",
   "execution_count": null,
   "metadata": {},
   "outputs": [],
   "source": [
    "transform = A.Compose(augm_methods2)\n",
    "transformed = transform(image=t1, mask=vs)\n",
    "fig = plt.figure(figsize=(10,10))\n",
    "plt.imshow(transformed[\"image\"], cmap=\"gray\")\n",
    "plt.imshow(transformed[\"mask\"], alpha=0.4)\n",
    "plt.axis('off')\n",
    "plt.savefig(os.path.join(figures_path, \"augm_t1_flip.png\"), bbox_inches='tight', pad_inches=0)"
   ]
  },
  {
   "cell_type": "code",
   "execution_count": null,
   "metadata": {},
   "outputs": [],
   "source": [
    "transform = A.Compose(augm_methods3)\n",
    "transformed = transform(image=t1, mask=vs)\n",
    "fig = plt.figure(figsize=(10,10))\n",
    "plt.imshow(transformed[\"image\"], cmap=\"gray\")\n",
    "plt.imshow(transformed[\"mask\"], alpha=0.4)\n",
    "plt.axis('off')\n",
    "plt.savefig(os.path.join(figures_path, \"augm_t1_gaussian.png\"), bbox_inches='tight', pad_inches=0)"
   ]
  },
  {
   "cell_type": "code",
   "execution_count": null,
   "metadata": {},
   "outputs": [],
   "source": [
    "transform = A.Compose(augm_methods4)\n",
    "transformed = transform(image=t1, mask=vs)\n",
    "fig = plt.figure(figsize=(10,10))\n",
    "plt.imshow(transformed[\"image\"], cmap=\"gray\")\n",
    "plt.imshow(transformed[\"mask\"], alpha=0.4)\n",
    "plt.axis('off')\n",
    "plt.savefig(os.path.join(figures_path, \"augm_t1_median.png\"), bbox_inches='tight', pad_inches=0)"
   ]
  },
  {
   "cell_type": "code",
   "execution_count": null,
   "metadata": {},
   "outputs": [],
   "source": [
    "transform = A.Compose(augm_methods5)\n",
    "transformed = transform(image=t1, mask=vs)\n",
    "fig = plt.figure(figsize=(10,10))\n",
    "plt.imshow(transformed[\"image\"], cmap=\"gray\")\n",
    "plt.imshow(transformed[\"mask\"], alpha=0.4)\n",
    "plt.axis('off')\n",
    "plt.savefig(os.path.join(figures_path, \"augm_t1_motion.png\"), bbox_inches='tight', pad_inches=0)"
   ]
  },
  {
   "cell_type": "code",
   "execution_count": null,
   "metadata": {},
   "outputs": [],
   "source": []
  }
 ],
 "metadata": {
  "kernelspec": {
   "display_name": "Python 3",
   "language": "python",
   "name": "python3"
  },
  "language_info": {
   "codemirror_mode": {
    "name": "ipython",
    "version": 3
   },
   "file_extension": ".py",
   "mimetype": "text/x-python",
   "name": "python",
   "nbconvert_exporter": "python",
   "pygments_lexer": "ipython3",
   "version": "3.6.9"
  }
 },
 "nbformat": 4,
 "nbformat_minor": 2
}

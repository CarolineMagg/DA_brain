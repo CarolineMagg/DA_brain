{
 "cells": [
  {
   "cell_type": "markdown",
   "metadata": {},
   "source": [
    "# Inspect data\n",
    "\n",
    "date: 08 Sept, 2021 <br>\n",
    "\n",
    "content: <br>\n",
    "* implementation of visualization methods\n",
    "* inspect dataset folder"
   ]
  },
  {
   "cell_type": "code",
   "execution_count": null,
   "metadata": {},
   "outputs": [],
   "source": [
    "import nibabel as nib\n",
    "import matplotlib.pyplot as plt\n",
    "import matplotlib as mpl\n",
    "import numpy as np\n",
    "import copy\n",
    "import cv2\n",
    "import sys\n",
    "import os"
   ]
  },
  {
   "cell_type": "code",
   "execution_count": null,
   "metadata": {},
   "outputs": [],
   "source": [
    "%config Completer.use_jedi = False\n",
    "%matplotlib inline"
   ]
  },
  {
   "cell_type": "markdown",
   "metadata": {},
   "source": [
    "## Utils methods"
   ]
  },
  {
   "cell_type": "code",
   "execution_count": null,
   "metadata": {},
   "outputs": [],
   "source": [
    "def load_data_from_folder(data_folder, subfiles=None):\n",
    "    \"\"\"\n",
    "    Load data from data folder\n",
    "    :param data_folder: path to data folder\n",
    "    :param subfiles: subfiles in data folder\n",
    "    :return: list with images as np.arrays\n",
    "    \"\"\"\n",
    "\n",
    "    if subfiles is None:\n",
    "        subfiles = [\"vs_gk_t1_refT1.nii\", \"vs_gk_t2_refT1.nii\", \"vs_gk_struc1_TV_refT1.nii\"]\n",
    "\n",
    "    path = [os.path.join(data_folder, f) for f in subfiles]\n",
    "    images = [nib.load(p) for p in path]\n",
    "    return [img.get_fdata() for img in images]\n",
    "\n",
    "def get_non_zero_slices_segmentation(segmentation):\n",
    "    \"\"\"\n",
    "    Extract all slices of segmentation that are non-zero\n",
    "    :param segmentation: np.array segmentation mask\n",
    "    :return: list with non-zero slice indices\n",
    "    \"\"\"\n",
    "    non_zero_index = []\n",
    "    for idx in range(0, segmentation.shape[2]):\n",
    "        if np.sum(segmentation[:, :, idx]) != 0:\n",
    "            non_zero_index.append(idx)\n",
    "    return non_zero_index"
   ]
  },
  {
   "cell_type": "code",
   "execution_count": null,
   "metadata": {},
   "outputs": [],
   "source": [
    "def tile_plot_timepoint(data_folder, slice_to_vis=None, figsize=(15, 15), cmap=None):\n",
    "    \"\"\"\n",
    "    Tile plot of one timepoint with T1, T2 and segmentation mask.\n",
    "    :param data_folder: path to data folder\n",
    "    :param slice_to_vis: slice to be visualized; if None  - the median slice of non-zero slices will be taken\n",
    "    :param figsize: figure size\n",
    "    :param cmap: color map\n",
    "    \"\"\"\n",
    "    # load NIFTI images\n",
    "    data = load_data_from_folder(data_folder)\n",
    "\n",
    "    # determine median slice that has segmentation mask\n",
    "    if slice_to_vis is None:\n",
    "        slice_to_vis = int(np.round(np.mean(get_non_zero_slices_segmentation(data[2]))))\n",
    "\n",
    "    # plot\n",
    "    fig, ax = plt.subplots(1, 3, figsize=figsize)\n",
    "    fig.tight_layout()\n",
    "    ax[0].imshow(data[0][:, :, slice_to_vis], cmap=cmap)\n",
    "    ax[0].set_title(\"T1\")\n",
    "    ax[1].imshow(data[1][:, :, slice_to_vis], cmap=cmap)\n",
    "    ax[1].set_title(\"T2\")\n",
    "    ax[2].imshow(data[2][:, :, slice_to_vis], cmap=cmap)\n",
    "    ax[2].set_title(\"SEG\")\n",
    "    fig.suptitle(\"Data slice {}\".format(slice_to_vis), fontsize=16)\n",
    "    plt.show()\n",
    "\n",
    "\n",
    "def tile_plot(data_folder, nrows=5, ncols=6, skip=2, cmap=None):\n",
    "    \"\"\"\n",
    "    Tile plot with multiple slides in a grid order.\n",
    "    :param data_folder: path to data folder\n",
    "    :param nrows: number of rows in the grid\n",
    "    :param ncols: number of columns in the grid\n",
    "    :param skip: number of slices to be skipped (default: every second slice is shown)\n",
    "    :param cmap: color map\n",
    "    :return:\n",
    "    \"\"\"\n",
    "    # load NIFTI images\n",
    "    data = load_data_from_folder(data_folder)\n",
    "\n",
    "    slices = data[0].shape[2]\n",
    "    if nrows * ncols > slices:\n",
    "        raise ValueError(\"nrows*ncols larger than {}\".format(slices))\n",
    "\n",
    "    # plot\n",
    "    fig, axes = plt.subplots(nrows=nrows, ncols=ncols, figsize=(15, 15))\n",
    "    counter = 0\n",
    "    for row in range(nrows):\n",
    "        for col in range(ncols):\n",
    "            axes[row, col].imshow(data[0][:, :, counter], cmap=cmap)\n",
    "            axes[row, col].set_title(counter)\n",
    "            axes[row, col].axis(\"off\")\n",
    "            counter += skip\n",
    "    plt.show()\n",
    "\n",
    "\n",
    "def overlap_plot(data_folder, slice_to_vis=None, figsize=(15, 15), modality=\"T1\", cmap=\"gray\"):\n",
    "    \"\"\"\n",
    "    Plot segmentation mask on top of either T1 or T2 image for one time point.\n",
    "    :param data_folder: path to data folder\n",
    "    :param slice_to_vis: slice to be visualized; if None  - the median slice of non-zero slices will be taken\n",
    "    :param figsize: figure size\n",
    "    :param cmap: color map\n",
    "    :param modality: modality to be shown; either T1 or T2\n",
    "    \"\"\"\n",
    "    # load NIFTI images\n",
    "    if \"t1\" in modality.lower():\n",
    "        data = load_data_from_folder(data_folder, subfiles=[\"vs_gk_t1_refT1.nii\", \"vs_gk_struc1_TV_refT1.nii\"])\n",
    "    elif \"t2\" in modality.lower():\n",
    "        data = load_data_from_folder(data_folder, subfiles=[\"vs_gk_t2_refT1.nii\", \"vs_gk_struc1_TV_refT1.nii\"])\n",
    "    else:\n",
    "        raise ValueError(\"Modality needs to be either T1 or T2.\")\n",
    "\n",
    "    # determine median slice that has segmentation mask\n",
    "    if slice_to_vis is None:\n",
    "        slice_to_vis = int(np.round(np.mean(get_non_zero_slices_segmentation(data[1]))))\n",
    "\n",
    "    # process data\n",
    "    tmp = copy.deepcopy(data[0][:, :, slice_to_vis])\n",
    "    toshow = cv2.normalize(tmp, None, alpha=0, beta=255, norm_type=cv2.NORM_MINMAX)\n",
    "    toshow3 = data[1][:, :, slice_to_vis]\n",
    "\n",
    "    # plot\n",
    "    if cmap == \"gray\":\n",
    "        fig, ax = plt.subplots()\n",
    "        ax.imshow(toshow, cmap=\"gray\")\n",
    "        ax.imshow(toshow3 * 200, alpha=0.3)\n",
    "    else:\n",
    "        dst = cv2.addWeighted(toshow / 255., 1.0, toshow3, 1.0, 0.0)\n",
    "        fig = plt.figure(figsize=figsize)\n",
    "        plt.imshow(dst)\n",
    "    fig.suptitle(\"{}, data slice {}\".format(modality, slice_to_vis), fontsize=16)\n",
    "    plt.show()\n",
    "\n",
    "\n",
    "def overlap_plot_comparison(data_folder, slice_to_vis=None, figsize=(15, 15), cmap=\"gray\"):\n",
    "    \"\"\"\n",
    "    Plot segmentation mask on top of either T1 and T2 image for one time point.\n",
    "    :param data_folder: path to data folder\n",
    "    :param slice_to_vis: slice to be visualized; if None  - the median slice of non-zero slices will be taken\n",
    "    :param figsize: figure size\n",
    "    :param cmap: color map\n",
    "    \"\"\"\n",
    "    # load NIFTI images\n",
    "    data = load_data_from_folder(data_folder)\n",
    "\n",
    "    # determine median slice that has segmentation mask\n",
    "    if slice_to_vis is None:\n",
    "        slice_to_vis = int(np.round(np.mean(get_non_zero_slices_segmentation(data[2]))))\n",
    "\n",
    "    # process data\n",
    "    tmp = copy.deepcopy(data[0][:, :, slice_to_vis])\n",
    "    tmp2 = copy.deepcopy(data[1][:, :, slice_to_vis])\n",
    "    toshow = np.zeros_like(tmp)\n",
    "    toshow2 = np.zeros_like(tmp2)\n",
    "    toshow = cv2.normalize(tmp, None, alpha=0, beta=255, norm_type=cv2.NORM_MINMAX)\n",
    "    toshow2 = cv2.normalize(tmp2, None, alpha=0, beta=255, norm_type=cv2.NORM_MINMAX)\n",
    "    toshow3 = data[2][:, :, slice_to_vis]\n",
    "\n",
    "    # plot\n",
    "    if cmap == \"gray\":\n",
    "        fig, ax = plt.subplots(1, 2, figsize=figsize)\n",
    "        ax[0].imshow(toshow, cmap=\"gray\")\n",
    "        ax[0].imshow(toshow3 * 200, alpha=0.3)\n",
    "        ax[0].set_title(\"T1\")\n",
    "        ax[0].axis(\"off\")\n",
    "        ax[1].imshow(toshow2, cmap=\"gray\")\n",
    "        ax[1].imshow(toshow3 * 200, alpha=0.3)\n",
    "        ax[1].set_title(\"T2\")\n",
    "        ax[1].axis(\"off\")\n",
    "    else:\n",
    "        img = cv2.addWeighted(toshow / 255., 1.0, toshow3, 0.5, 0.0)\n",
    "        img2 = cv2.addWeighted(toshow2 / 255., 1.0, toshow3, 0.5, 0.0)\n",
    "        fig, ax = plt.subplots(1, 2, figsize=figsize)\n",
    "        ax[0].imshow(img)\n",
    "        ax[0].set_title(\"T1\")\n",
    "        ax[0].axis(\"off\")\n",
    "        ax[1].imshow(img2)\n",
    "        ax[1].set_title(\"T2\")\n",
    "        ax[1].axis(\"off\")\n",
    "    fig.suptitle(\"Data slice {}\".format(slice_to_vis), fontsize=16)\n",
    "    plt.show()"
   ]
  },
  {
   "cell_type": "markdown",
   "metadata": {},
   "source": [
    "## Inspect data folder"
   ]
  },
  {
   "cell_type": "code",
   "execution_count": null,
   "metadata": {},
   "outputs": [],
   "source": [
    "folder_path = \"/tf/workdir/data/VS_segm/VS_registered/training/vs_gk_1\""
   ]
  },
  {
   "cell_type": "code",
   "execution_count": null,
   "metadata": {},
   "outputs": [],
   "source": [
    "tile_plot(folder_path)"
   ]
  },
  {
   "cell_type": "code",
   "execution_count": null,
   "metadata": {},
   "outputs": [],
   "source": [
    "tile_plot_timepoint(folder_path)"
   ]
  },
  {
   "cell_type": "code",
   "execution_count": null,
   "metadata": {},
   "outputs": [],
   "source": [
    "overlap_plot_comparison(folder_path)"
   ]
  },
  {
   "cell_type": "code",
   "execution_count": null,
   "metadata": {},
   "outputs": [],
   "source": [
    "overlap_plot(folder_path, figsize=(5,5))"
   ]
  },
  {
   "cell_type": "code",
   "execution_count": null,
   "metadata": {},
   "outputs": [],
   "source": [
    "overlap_plot(folder_path, figsize=(5,5), modality=\"T2\")"
   ]
  },
  {
   "cell_type": "code",
   "execution_count": null,
   "metadata": {},
   "outputs": [],
   "source": []
  }
 ],
 "metadata": {
  "kernelspec": {
   "display_name": "Python 3",
   "language": "python",
   "name": "python3"
  },
  "language_info": {
   "codemirror_mode": {
    "name": "ipython",
    "version": 3
   },
   "file_extension": ".py",
   "mimetype": "text/x-python",
   "name": "python",
   "nbconvert_exporter": "python",
   "pygments_lexer": "ipython3",
   "version": "3.6.9"
  }
 },
 "nbformat": 4,
 "nbformat_minor": 2
}
